{
 "cells": [
  {
   "cell_type": "markdown",
   "metadata": {},
   "source": [
    "# Arc Clamp Force Calculations\n",
    "## Nomenclature\n",
    "\n",
    "$\\Gamma$        Screw Torque  \n",
    "N<sub>sc</sub>  Number of Screws  \n",
    "$\\Theta$        Jaw Angle    \n",
    "$\\mu$<sub>co</sub>  Coefficient of static friction between the jaws  \n",
    "K               Nut Factor  \n",
    "D               Screw Diameter"
   ]
  },
  {
   "cell_type": "code",
   "execution_count": 19,
   "metadata": {},
   "outputs": [
    {
     "name": "stdout",
     "output_type": "stream",
     "text": [
      "F_clamp = 82.62 lbf\n"
     ]
    }
   ],
   "source": [
    "import math\n",
    "\n",
    "gamma = 5.2                  # Screw Torque (in-lbf)\n",
    "num_screws = 4               # Number of screws\n",
    "theta = math.radians(20)     # Jaw Angle (radians)\n",
    "mu_co = 1.05                 # Static Friction Coeff for Al-Al\n",
    "K = 1.0                      # Nut Factor\n",
    "D = 0.11                     # Screw Diameter (in)\n",
    "F_clamp = gamma*num_screws*(-mu_co*math.sin(theta)+ math.cos(theta))\\\n",
    "/(K*D*(mu_co*math.cos(theta)+math.sin(theta)))\n",
    "print('F_clamp = {:4.2f} lbf'.format(F_clamp))"
   ]
  },
  {
   "cell_type": "code",
   "execution_count": null,
   "metadata": {},
   "outputs": [],
   "source": []
  }
 ],
 "metadata": {
  "kernelspec": {
   "display_name": "Python 3",
   "language": "python",
   "name": "python3"
  },
  "language_info": {
   "codemirror_mode": {
    "name": "ipython",
    "version": 3
   },
   "file_extension": ".py",
   "mimetype": "text/x-python",
   "name": "python",
   "nbconvert_exporter": "python",
   "pygments_lexer": "ipython3",
   "version": "3.7.4"
  }
 },
 "nbformat": 4,
 "nbformat_minor": 2
}
