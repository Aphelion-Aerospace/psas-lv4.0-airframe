{
 "cells": [
  {
   "cell_type": "markdown",
   "metadata": {},
   "source": [
    "# Critical Load of Column Buckling for Isogrid Airframe Modules\n",
    "This calculation shows the individual isogrid modules of LV4 are not subject to column buckling. The largest module, the fin can at 36 inches long, is used for this analysis as all smaller modules will be stronger against column buckling. An effective mass and moment of inertia is calcualted from isogrid handbook parameters for this isogrid pattern."
   ]
  },
  {
   "cell_type": "markdown",
   "metadata": {},
   "source": [
    "## Comparison of Mass and Moment of Inertia Values from CAD and Isogrid Equivalent Parameters\n",
    "### Module Mass Calculation From Isogrid Handbook Effective Parameters\n",
    "Using the formula for mass of a hollow cylinder of inner diameter $ d_i $ and outer diameter $d_o$, with $d_o$ being calculated from $d_i$ and wall thickness $\\overline{t}$ representing from the isogrid handbook calcs for this isogrid configuration.\n",
    "### $ m = \\frac{\\pi (d_o^2 - d_i^2) L \\rho}{4} $"
   ]
  },
  {
   "cell_type": "code",
   "execution_count": 48,
   "metadata": {},
   "outputs": [
    {
     "name": "stdout",
     "output_type": "stream",
     "text": [
      "Approximate mass of 3.3199 pounds from isogrid handbook equivalent calcs.\n",
      "Theoretical mass of 3.1785 pounds directly from CAD.\n"
     ]
    }
   ],
   "source": [
    "import math\n",
    "Di = 12 # in\n",
    "t_bar = 0.025 # effective weight thickness, in\n",
    "Do = Di + 2*t_bar # in\n",
    "rho = 0.097643 # mass density of aluminum, lbm/in^3\n",
    "length = 36 # in\n",
    "\n",
    "m = (math.pi * ((Do**2)-(Di**2))*length*rho)/4\n",
    "print(\"Approximate mass of {m} pounds from isogrid handbook equivalent calcs.\".format(m=round(m,4)))\n",
    "print(\"Theoretical mass of {m} pounds directly from CAD.\".format(m=3.1785))"
   ]
  },
  {
   "cell_type": "markdown",
   "metadata": {},
   "source": [
    "### Module Mass Moment of Inertia About Center Axis\n",
    "### $ I_x = \\frac{m}{8} (d_o^2 + d_i^2)$\n",
    "Using the formula for mass moment of inertia of a hollow cylinder rotating about its center axis, with $d_i$ still representing the inner diameter, however for this calculation $d_o$ is calculated from the effective monocoque thickness, $t^*$, again from the same calculated isogrid handbook paramters for this isogrid pattern."
   ]
  },
  {
   "cell_type": "code",
   "execution_count": 49,
   "metadata": {},
   "outputs": [
    {
     "name": "stdout",
     "output_type": "stream",
     "text": [
      "Calculated mass moment of inertia of 121.665 in^2 pounds from isogrid handbook equivalent mass.\n",
      "Theoretical mass moment of inertia of 115.604 in^2 pounds from CAD.\n"
     ]
    }
   ],
   "source": [
    "Di = Di # defined above\n",
    "t_star = 0.107 # effective monocoque thickness, in\n",
    "Do = Di + 2*t_star # in\n",
    "Ix = (m/8)*((Do**2)+(Di**2))\n",
    "print(\"Calculated mass moment of inertia of {I} in^2 pounds from isogrid handbook equivalent mass.\".format(I=round(Ix,4)))\n",
    "print(\"Theoretical mass moment of inertia of {I} in^2 pounds from CAD.\".format(I=115.604))"
   ]
  },
  {
   "cell_type": "markdown",
   "metadata": {},
   "source": [
    "### Module Mass Moment of Inertia About Perpindicular Axis\n",
    "Using the formula for mass moment of inertia of a hollow cylinder rotating about either of its axis perpindicular to the center axis, with 𝑑𝑖 still representing the inner diameter, however for this calculation 𝑑𝑜 is calculated from the effective monocoque thickness, 𝑡∗, again from the same calculated isogrid handbook paramters for this isogrid pattern.\n",
    "### $ I_y = I_z = \\frac{m}{48}(3d_o^2 + 3d_i^2 + 4l^2)$"
   ]
  },
  {
   "cell_type": "code",
   "execution_count": 50,
   "metadata": {},
   "outputs": [
    {
     "name": "stdout",
     "output_type": "stream",
     "text": [
      "419.37638991479764\n",
      "Calculated mass moment of inertia of 419.3764 in^2 pounds from isogrid handbook equivalent mass.\n",
      "Theoretical mass moment of inertia of 364.469 in^2 pounds from CAD.\n"
     ]
    }
   ],
   "source": [
    "m = m\n",
    "Do = Di + 2*t_star # in\n",
    "Di = Di\n",
    "Iy = (m/48)*((3*(Do**2))+(3*(Di**2)) + (4*(length**2)))\n",
    "print(Iy)\n",
    "print(\"Calculated mass moment of inertia of {I} in^2 pounds from isogrid handbook equivalent mass.\".format(I=round(Iy,4)))\n",
    "print(\"Theoretical mass moment of inertia of {Iy} in^2 pounds from CAD.\".format(Iy=364.469))"
   ]
  },
  {
   "cell_type": "markdown",
   "metadata": {},
   "source": [
    "### Module Area Moment of Inertia\n",
    "Using the formula for area moment of inertia of a hollow cylinder rotating about its center axis, with 𝑑𝑖 still representing the inner diameter, however for this calculation 𝑑𝑜 is calculated from the effective monocoque thickness, 𝑡∗, again from the same calculated isogrid handbook paramters for this isogrid pattern.\n",
    "### $ I_a = \\frac{\\pi}{64}(d_o^4 - d_i^4)$\n",
    "### $ A = \\frac{\\pi}{4}(d_o^4 - d_i^4)$"
   ]
  },
  {
   "cell_type": "code",
   "execution_count": 51,
   "metadata": {},
   "outputs": [
    {
     "name": "stdout",
     "output_type": "stream",
     "text": [
      "74.57396096769143\n",
      "4.06977306150026\n"
     ]
    }
   ],
   "source": [
    "Do = Di + 2*t_star # in\n",
    "Di = Di\n",
    "Ia = (math.pi/64)*((Do**4)-(Di**4))\n",
    "A = (math.pi/4)*((Do**2) - (Di**2)) # in^2\n",
    "print(Ia)\n",
    "print(A)"
   ]
  },
  {
   "cell_type": "markdown",
   "metadata": {},
   "source": [
    "## Computation of Critical Buckling Load of Isogrid Module"
   ]
  },
  {
   "cell_type": "markdown",
   "metadata": {},
   "source": [
    "### Slenderness Ratio\n",
    "Using the foruma for the slenderness ratio of a column, based on its radius of gyration, k, and its length, l. This ratio tells which column buckling formula would be most applicable to predict the load it will fail at. It is compared against the euler slenderness check below.\n",
    "### $I = Ak^2$ \n",
    "Where I is the area moment of inertia and k is the radius of gyration, giving us the slenderness ratio when combined with the length of the column.\n",
    "### Slenderness Ratio: $\\frac{l}{k}$\n",
    "### Euler Slenderness Check: $(\\frac{l}{k})_1 = (\\frac{2\\pi^2 C E^*}{S_y})^\\frac{1}{2}$"
   ]
  },
  {
   "cell_type": "code",
   "execution_count": 52,
   "metadata": {},
   "outputs": [
    {
     "name": "stdout",
     "output_type": "stream",
     "text": [
      "The slenderness ratio of this module is; 8.41\n",
      "The critical slenderness ratio to check of this module is; 19.6325\n",
      "The parabolic fomula is most applicable for column buckling for this module.\n"
     ]
    }
   ],
   "source": [
    "I = Ia # in^4\n",
    "A = A # in^2\n",
    "k = (I/A)**0.5 # in\n",
    "\n",
    "length = length # defined above\n",
    "slenderness_ratio = length/k\n",
    "print(\"The slenderness ratio of this module is; {slenderness_ratio}\".format(slenderness_ratio = round(slenderness_ratio,4)))\n",
    "\n",
    "\n",
    "Sy = 40000 # psi\n",
    "E_star = 2044792 # equivalent modulus of elasticity from isogrid handbook\n",
    "C = 1.2 # both ends fixed boundary condition, table 4-2 Shigley's\n",
    "slenderness_check = ((2*math.pi*C*E_star)/(Sy))**0.5\n",
    "print(\"The critical slenderness ratio to check of this module is; {slenderness_check}\"\n",
    "      .format(slenderness_check = round(slenderness_check,4)))\n",
    "\n",
    "\n",
    "if slenderness_ratio > slenderness_check:\n",
    "    print(\"Euler's formula is most applicable for column buckling for this module.\")\n",
    "if slenderness_ratio < slenderness_check:\n",
    "    print(\"The parabolic fomula is most applicable for column buckling for this module.\")"
   ]
  },
  {
   "cell_type": "markdown",
   "metadata": {},
   "source": [
    "### Long Column Critical Buckling Load\n",
    "### $ Pcr = \\frac{C\\pi ^2 E^* I_a}{L^2}$\n",
    "Critical bucking load using Euler's column buckling formula. A boundary condition constant of 1.2 was chosen to represent the modules fixed boundary conditions on the top and bottom coupling rings. An effective modulus of elasticity, $E^*$ is used from the isogrid handbook to maintain continuity with the previous calculation's $t^*$ parameter."
   ]
  },
  {
   "cell_type": "code",
   "execution_count": 53,
   "metadata": {},
   "outputs": [
    {
     "name": "stdout",
     "output_type": "stream",
     "text": [
      "Predicted critical buckling load of 1393517.22 pounds of force for module of 36 inch length\n"
     ]
    }
   ],
   "source": [
    "C = 1.2 # both ends fixed boundary condition, table 4-2 Shigley's\n",
    "E_star = 2044792 # equivalent modulus of elasticity from isogrid handbook\n",
    "I = Ia # defined above\n",
    "length = length # defined above\n",
    "Pcr = (C*(math.pi**2)*E_star*I)/(length**2)\n",
    "print(\"Predicted critical buckling load of {Pcr} pounds of force for module of {length} inch length\"\n",
    "      .format(Pcr=round(Pcr,2),length=length))"
   ]
  },
  {
   "cell_type": "markdown",
   "metadata": {},
   "source": [
    "### Intermediate Column Critical Buckling Load\n",
    "Critical buckling load using the parabolic column buckling formula for the region of the euler curve for slenderness ratios larger than $(\\frac{l}{k})_1$. An effective modulus of elasticity, 𝐸∗ is used from the isogrid handbook to maintain continuity with the previous calculation's 𝑡∗ parameter.\n",
    "### $ Pcr = A(S_y - (\\frac{S_y}{2\\pi}\\frac{l}{k})^2\\frac{1}{CE^*})$"
   ]
  },
  {
   "cell_type": "code",
   "execution_count": 54,
   "metadata": {},
   "outputs": [
    {
     "name": "stdout",
     "output_type": "stream",
     "text": [
      "Predicted critical buckling load of 158036.61 pounds of force for module of 36 inch length\n"
     ]
    }
   ],
   "source": [
    "Sy = Sy # defined above\n",
    "C = C # defined above\n",
    "E_star = E_star # defined above\n",
    "slenderness_ratio = slenderness_ratio # defined above\n",
    "A = A # defined above\n",
    "Pcr = A*(Sy - (((Sy/(2*math.pi))*slenderness_ratio)**2)*(1/(C*E_star)))\n",
    "print(\"Predicted critical buckling load of {Pcr} pounds of force for module of {length} inch length\".format(Pcr=round(Pcr,2),length=length))"
   ]
  },
  {
   "cell_type": "markdown",
   "metadata": {},
   "source": [
    "# Conclusion\n",
    "As Predicted by the slenderness ratio, using an intermediate column was a more conservative, and likely a more accurate estimate."
   ]
  }
 ],
 "metadata": {
  "kernelspec": {
   "display_name": "Python 3",
   "language": "python",
   "name": "python3"
  },
  "language_info": {
   "codemirror_mode": {
    "name": "ipython",
    "version": 3
   },
   "file_extension": ".py",
   "mimetype": "text/x-python",
   "name": "python",
   "nbconvert_exporter": "python",
   "pygments_lexer": "ipython3",
   "version": "3.8.5"
  }
 },
 "nbformat": 4,
 "nbformat_minor": 4
}
