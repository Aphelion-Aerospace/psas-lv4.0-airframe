{
 "cells": [
  {
   "cell_type": "markdown",
   "metadata": {},
   "source": [
    "# Isogrid Passthrough Design for the LV4 Sub-Orbital Rocket\n",
    "## Motivation\n",
    "Since we are moving to a fully machined aluminum airframe, the passthrough rings are another potential part for optimization with isogrid design. Hand calcs derived from NASA Isogrid Handbook section 4.8"
   ]
  },
  {
   "cell_type": "code",
   "execution_count": 1,
   "metadata": {},
   "outputs": [],
   "source": [
    "# Stock properties\n",
    "grid_id = 12.5     # in\n",
    "grid_wall_t = 0.25  # in\n",
    "grid_od = grid_id+2*grid_wall_t # in\n",
    "grid_r = grid_od/2   # in\n",
    "grid_length = 4  # in\n",
    "offset = 0.05\n",
    "\n",
    "# Material properties for Al 6061-T6\n",
    "E_Si = 69.0 # Young's Modules, GPa\n",
    "density = 0.0975 #lb/in^3\n",
    "E = 10.1e6 # psi\n",
    "S_y = 34e3 # Yield compressive Strength - psi\n",
    "S_u = 45e3 # Ultimate Tensile Strength - psi\n",
    "\n",
    "nu = 0.33 # Poisson's Ratio\n"
   ]
  },
  {
   "cell_type": "markdown",
   "metadata": {},
   "source": [
    "### Safety Factor\n",
    "Minimum safety factor for Base 11 is 1.5 (see requirement 3.2.4.15)"
   ]
  },
  {
   "cell_type": "code",
   "execution_count": 2,
   "metadata": {},
   "outputs": [],
   "source": [
    "safety_factor = 1.5"
   ]
  },
  {
   "cell_type": "markdown",
   "metadata": {},
   "source": [
    "\n",
    "### Pattern size\n",
    "For optimal strength and to maintain isotropic properties, the isogrid cells need to wrap around the tank diameter in integer increments. Twenty four cells was chosen as a starting point."
   ]
  },
  {
   "cell_type": "code",
   "execution_count": 3,
   "metadata": {},
   "outputs": [
    {
     "name": "stdout",
     "output_type": "stream",
     "text": [
      "Pattern Size: 3.40339\n",
      "Pattern Height: 2.94742\n"
     ]
    }
   ],
   "source": [
    "import math\n",
    "num_radial_divisions = 12\n",
    "pattern_size = grid_od*math.pi/num_radial_divisions\n",
    "pattern_height = pattern_size*(3**(1/2))/2\n",
    "print('Pattern Size: {:5.5f}'.format(pattern_size))\n",
    "print('Pattern Height: {:5.5f}'.format(pattern_height))\n"
   ]
  },
  {
   "cell_type": "markdown",
   "metadata": {},
   "source": [
    "### Design Properties\n",
    "\n",
    "from \"Isogrid Definitions\", page viii\n",
    "\n",
    "**Design choices:**<br>\n",
    "b: rib width; &emsp;&emsp;&emsp;&emsp;  min 0.03\" per Peter<br>\n",
    "d: rib depth; &emsp;&emsp;&emsp;&emsp; calculated from OD minus skin<br>\n",
    "c: flange depth<br>\n",
    "w: flange width<br>\n",
    "s: plate thickness of unflanged isogrid<br>\n",
    "h: triangle height<br>\n",
    "a: triangle leg length (center to center along pattern)<br><br>\n",
    "\n",
    "**Equivalent material properties:**<br>\n",
    "t_eff = equivalent thickness for membrane stresses<br>\n",
    "t_bar = equivalent weight thickness <br>\n",
    "E_star = equivalent monocoque Young's modulus<br><br>"
   ]
  },
  {
   "cell_type": "code",
   "execution_count": 4,
   "metadata": {},
   "outputs": [],
   "source": [
    "#Design choices\n",
    "b = 0.05\n",
    "d = grid_wall_t-offset\n",
    "c = 0.0\n",
    "w = 0.0\n",
    "h = pattern_height\n",
    "a = pattern_size\n",
    "\n",
    "\n",
    "# non dimensional terms α λ μ δ β\n",
    "β=b/a\n",
    "\n",
    "#Equivalent properties\n",
    "E_bar = E*b/h\n",
    "t_bar = 2*(3**0.5)*β*d #4.8.16\n",
    "t_eff = b*d/h\n"
   ]
  },
  {
   "cell_type": "markdown",
   "metadata": {},
   "source": [
    "## Mass Model\n",
    "Equations for calculating the mass of the isotank based on diameter and length\n",
    "\n",
    "tbar: equiv wt thickness<br>"
   ]
  },
  {
   "cell_type": "code",
   "execution_count": 5,
   "metadata": {
    "scrolled": true
   },
   "outputs": [
    {
     "name": "stdout",
     "output_type": "stream",
     "text": [
      "equivalent weight thickness: 0.010178379607786931 in\n",
      "grid_mass: 0.15601150486965917 lbm\n",
      "grid_mass_kg: 0.07076557051683845 kg\n"
     ]
    }
   ],
   "source": [
    "import math\n",
    "\n",
    "cross_section = math.pi*((grid_id/2+t_bar)**2-(grid_id/2)**2)\n",
    "volume = cross_section*grid_length\n",
    "grid_mass = volume*density\n",
    "lbm_to_kg = 0.453592 #unit conversion\n",
    "grid_mass_kg = grid_mass * lbm_to_kg\n",
    "\n",
    "print('equivalent weight thickness:',t_bar, 'in')\n",
    "print('grid_mass:',grid_mass, 'lbm')\n",
    "print('grid_mass_kg:',grid_mass_kg, 'kg')\n",
    "#print('tank_wall_mass:',tank_wall_mass, 'kg')"
   ]
  },
  {
   "cell_type": "markdown",
   "metadata": {},
   "source": [
    "## Load Calculations\n"
   ]
  },
  {
   "cell_type": "markdown",
   "metadata": {},
   "source": [
    "\n",
    "### Combined Compression and Bending\n",
    "For the fuel tank, the cylinder is under compression and bending. Section 4.2 on page 4.2.001 (#97) covers this scenario. The example covers:\n",
    "* General Instability (N_cr_1)\n",
    "* Skin Buckling (N_cr_2)\n",
    "* Rib Crippling (N_cr_3)"
   ]
  },
  {
   "cell_type": "code",
   "execution_count": 6,
   "metadata": {
    "scrolled": true
   },
   "outputs": [
    {
     "name": "stdout",
     "output_type": "stream",
     "text": [
      "\n",
      "General Instability: \n",
      " 420.0 lbf/in || 17154.5 lbf\n",
      "Rib Crippling: \n",
      " 114897.6 lbf/in || 4692498.9 lbf\n"
     ]
    }
   ],
   "source": [
    "import math\n",
    "\n",
    "# Inputs\n",
    "F = -1573 # 1573 lbf ~7000 N\n",
    "M = 265 # 265 lbf*in = 30 Nm\n",
    "\n",
    "N_cr_1 = 0.460*E*β*d**2/grid_r\n",
    "N_cr_2 = 1.422*E*d**3\n",
    "\n",
    "#print('If Ncr_Nb_check > Nb: \\n edit Euler modifier ({:1.2f}) using ref 2.1 (4.2.002) \\n https://sci-hub.se/https://doi.org/10.1017/S0001924000014755'.format(euler))\n",
    "#print('Euler buckling lookup values:\\n R/t*: {:5.1f} \\n L/R: {:5.1f}'.format(R_t_star,L_R))\n",
    "\n",
    "#print('\\nBuckling: \\n classical (Nb > check value above): \\n  {:5.1f} lbf/in || {:5.1f} lbf'.format(N_cl,N_cl*2*math.pi*grid_r))\n",
    "#print(' conservative (Euler): \\n  {:5.1f} lbf/in || {:5.1f} lbf'.format(N_cr_timo,N_cr_timo*2*math.pi*grid_r))\n",
    "#print(' calculated (KDF = {:1.2f}) \\n  ref: https://www.hindawi.com/journals/ijae/2020/9851984/#B4\\n  {:5.1f} lbf/in || {:5.1f} lbf'.format(Y,N_cr_KDL,N_cr_KDL*2*math.pi*grid_r))\n",
    "print('\\nGeneral Instability: \\n {:5.1f} lbf/in || {:5.1f} lbf'.format(N_cr_1,N_cr_1*2*math.pi*grid_r))\n",
    "#print('General Instability (conservative KDF = {:1.2f} from 4.2.005): \\n {:5.1f} lbf/in || {:5.1f} lbf'.format(Y_con,N_cr_1_con,N_cr_1_con*2*math.pi*grid_r))\n",
    "### I realized that General Instability and Buckling are the same thing; not sure which of these apply, probably best to look at the most conservative or analyze in FEA.\n",
    "\n",
    "#print('K_c: \\n {:5.1f} lbf'.format(K_c))\n",
    "\n",
    "print('Rib Crippling: \\n {:5.1f} lbf/in || {:5.1f} lbf'.format(N_cr_2,N_cr_2*2*math.pi*grid_r))\n",
    "\n"
   ]
  },
  {
   "cell_type": "markdown",
   "metadata": {},
   "source": [
    "## Stress Calcs"
   ]
  },
  {
   "cell_type": "code",
   "execution_count": 7,
   "metadata": {},
   "outputs": [
    {
     "name": "stdout",
     "output_type": "stream",
     "text": [
      "Loads:\n",
      " axial:\n",
      "  -40.1 lbf/in || -1635.9 lbf\n",
      " bending:\n",
      "    2.2 lbf/in ||  88.2 lbf\n",
      " combined max:\n",
      "  -37.9 lbf/in || -1488.2 lbf\n",
      " combined min:\n",
      "  -42.2 lbf/in || -1657.8 lbf\n",
      "\n",
      "Membrane rib stress:\n",
      " σ_1 rib: 3723.3 psi\n",
      " σ_2_3 rib: -7446.5 psi\n"
     ]
    }
   ],
   "source": [
    "Fx = F #axial\n",
    "Fy = 0 #circumferential\n",
    "Txy = 0.0\n",
    "\n",
    "Na = F/(math.pi*grid_id)\n",
    "Nb = M/(math.pi*(grid_id/2)**2)\n",
    "N_max = Na+Nb\n",
    "N_min = Na-Nb\n",
    "\n",
    "σ_1_rib = -(h/(3*b*d))*N_max\n",
    "σ_2_3_rib = (2*h/(3*b*d))*N_max\n",
    "\n",
    "\n",
    "#add in membrane rib and skin stresses (2.0.021)\n",
    "\n",
    "print('Loads:\\n axial:\\n  {:5.1f} lbf/in || {:5.1f} lbf'.format(Na,Na*2*math.pi*grid_r))\n",
    "print(' bending:\\n  {:5.1f} lbf/in || {:5.1f} lbf'.format(Nb,Nb*2*math.pi*grid_r))\n",
    "print(' combined max:\\n  {:5.1f} lbf/in || {:5.1f} lbf'.format(N_max,N_max*math.pi*grid_id))\n",
    "print(' combined min:\\n  {:5.1f} lbf/in || {:5.1f} lbf'.format(N_min,N_min*math.pi*grid_id))\n",
    "print('\\nMembrane rib stress:')\n",
    "print(' σ_1 rib: {:5.1f} psi'.format(σ_1_rib))\n",
    "print(' σ_2_3 rib: {:5.1f} psi'.format(σ_2_3_rib))"
   ]
  },
  {
   "cell_type": "code",
   "execution_count": null,
   "metadata": {},
   "outputs": [],
   "source": []
  }
 ],
 "metadata": {
  "kernelspec": {
   "display_name": "Python 3 (ipykernel)",
   "language": "python",
   "name": "python3"
  },
  "language_info": {
   "codemirror_mode": {
    "name": "ipython",
    "version": 3
   },
   "file_extension": ".py",
   "mimetype": "text/x-python",
   "name": "python",
   "nbconvert_exporter": "python",
   "pygments_lexer": "ipython3",
   "version": "3.8.8"
  }
 },
 "nbformat": 4,
 "nbformat_minor": 2
}
