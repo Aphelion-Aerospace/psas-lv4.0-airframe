{
 "cells": [
  {
   "cell_type": "markdown",
   "metadata": {},
   "source": [
    "# Arc Clamp Design\n",
    "Document containing the design information for the PSAS arc clamp system.\n",
    "\n",
    "## Notional Design and Free Body Diagram\n",
    "\n",
    "<img src=\"notional_drawing.png\" width=700 />\n",
    "\n",
    "### Clamping Force from the Screws\n",
    "\n",
    "$$F_{sc} = \\frac{\\Gamma N_{sc}}{KD} $$\n",
    "\n",
    "### Forces on Arc Clamp\n",
    "\n",
    "$$\\Sigma F_{x} = 0 = -F_{sc} + 2F_{\\mu co}\\cos(\\theta) + 2F_{co}\\sin(\\theta)$$\n",
    "\n",
    "$$F_{sc} = 2\\mu_{co}F_{co}\\cos(\\theta) + 2F_{co}\\sin(\\theta)$$\n",
    "\n",
    "$$F_{sc} = 2F_{co}(\\mu_{co}\\cos(\\theta) + sin(\\theta))$$\n",
    "\n",
    "### Forces on Ring\n",
    "\n",
    "$$\\Sigma F_{y} = 0 = F_{clamp} +F_{\\mu co}\\sin(\\theta) - F_{co}\\cos(\\theta)$$\n",
    "\n",
    "$$F_{clamp} = -\\mu_{co}F_{co}\\sin(\\theta) + F_{co}\\cos(\\theta)$$\n",
    "\n",
    "$$F_{clamp} = \\frac{F_{sc}(-\\mu_{co}\\sin(\\theta) + \\cos(\\theta))}{2(\\mu_{co}\\cos(\\theta) + \\sin(\\theta))}$$\n",
    "\n",
    "## Nomenclature\n",
    "F<sub>sc</sub>      Screw Clamping Force  \n",
    "F<sub>co</sub>      Jaw Contact Force  \n",
    "F<sub>$\\mu$co</sub> Jaw Friction Force  \n",
    "F<sub>clamp</sub>   Clamping Force  \n",
    "$\\Gamma$            Screw Torque  \n",
    "N<sub>sc</sub>      Number of Screws  \n",
    "$\\theta$            Jaw Angle    \n",
    "$\\mu$<sub>co</sub>  Coefficient of static friction between the jaws  \n",
    "K                   Nut Factor  \n",
    "D                   Screw Diameter"
   ]
  },
  {
   "cell_type": "code",
   "execution_count": 6,
   "metadata": {},
   "outputs": [
    {
     "name": "stdout",
     "output_type": "stream",
     "text": [
      "Per Arc Clamp:\n",
      "  F_sc = 378.18 lbf\n",
      "  F_clamp = 82.62 lbf\n"
     ]
    }
   ],
   "source": [
    "import math\n",
    "\n",
    "gamma = 5.2                  # Screw Torque (in-lbf)\n",
    "num_screws = 8               # Number of screws\n",
    "theta = math.radians(20)     # Jaw Angle (radians)\n",
    "mu_co = 1.05                 # Static Friction Coeff for Al-Al. Worst case, conservative.\n",
    "K = 1.0                      # Nut Factor\n",
    "D = 0.11                     # Screw Diameter (in)\n",
    "\n",
    "F_sc = gamma*num_screws/(K*D)\n",
    "F_clamp = gamma*num_screws*(-mu_co*math.sin(theta)+ math.cos(theta))\\\n",
    "/(2*K*D*(mu_co*math.cos(theta)+math.sin(theta)))\n",
    "\n",
    "print('Per Arc Clamp:')\n",
    "print('  F_sc = {:4.2f} lbf'.format(F_sc))\n",
    "print('  F_clamp = {:4.2f} lbf'.format(F_clamp))"
   ]
  },
  {
   "cell_type": "markdown",
   "metadata": {},
   "source": [
    "## Loading\n",
    "\n",
    "$$N_{x} = \\frac{F}{2\\pi R} + \\frac{M}{\\pi R^{2}}\\cos(\\phi)$$\n",
    "\n",
    "$N_x$ Axial load per inch  \n",
    "$\\phi$ Angle around the cylinder"
   ]
  },
  {
   "cell_type": "code",
   "execution_count": 5,
   "metadata": {},
   "outputs": [
    {
     "name": "stdout",
     "output_type": "stream",
     "text": [
      "Nx_max 44.07 lbf/in\n"
     ]
    }
   ],
   "source": [
    "import math\n",
    "\n",
    "# Inputs\n",
    "F = 1.573 # Klbf ~7000 N\n",
    "M = 0.265 # K in = 30 Nm\n",
    "R = 6     # in\n",
    "\n",
    "Nx_max = 1000*(F/(2*math.pi*R) + M/(math.pi*R**2))\n",
    "print('Nx_max {:3.2f} lbf/in'.format(Nx_max))"
   ]
  },
  {
   "cell_type": "code",
   "execution_count": null,
   "metadata": {},
   "outputs": [],
   "source": []
  }
 ],
 "metadata": {
  "kernelspec": {
   "display_name": "Python 3",
   "language": "python",
   "name": "python3"
  },
  "language_info": {
   "codemirror_mode": {
    "name": "ipython",
    "version": 3
   },
   "file_extension": ".py",
   "mimetype": "text/x-python",
   "name": "python",
   "nbconvert_exporter": "python",
   "pygments_lexer": "ipython3",
   "version": "3.7.4"
  }
 },
 "nbformat": 4,
 "nbformat_minor": 2
}
