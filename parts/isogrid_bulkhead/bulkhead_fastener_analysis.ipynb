{
 "cells": [
  {
   "cell_type": "markdown",
   "metadata": {},
   "source": [
    "# Stress Analysis on Bulkhead Radial Screws\n",
    "document containing the Stress Analysis on the Radial Screws for the bulkheads."
   ]
  },
  {
   "cell_type": "markdown",
   "metadata": {},
   "source": [
    "## Shear Stress on Screws\n",
    "The equation for determining shear stress on screws is:\n",
    "## $\\tau$ = $\\frac{F}{{(n-2)}A_{t}}$ \n",
    "Where $\\tau$ is the shear stress,\\\n",
    "Where $n$ is the number of screws,\\\n",
    "Where ${A_{t}}$ is the Minor-Diameter Area of the specified screw."
   ]
  },
  {
   "cell_type": "code",
   "execution_count": 3,
   "metadata": {},
   "outputs": [
    {
     "name": "stdout",
     "output_type": "stream",
     "text": [
      "262.219240881\n",
      "5286.678 psi\n",
      "1166.409 newtons\n"
     ]
    }
   ],
   "source": [
    "import numpy as np\n",
    "\n",
    "# #4 screw screw information\n",
    "screw_diameter = 0.112 #in\n",
    "minor_diameter_area = 0.00496 #in^2\n",
    "screw_count = 12\n",
    "\n",
    "# Max Loading Conditons\n",
    "loading_mass = 11.890 #kg\n",
    "g = 9.81 #m/s2\n",
    "max_acceleration = 10*g #m/s2\n",
    "Max_Force = loading_mass * max_acceleration #Newtons\n",
    "\n",
    "\n",
    "# Max Loading Conversion to American Units\n",
    "F_lb = Max_Force * 0.224809 #lbf\n",
    "\n",
    "tau = F_lb/((screw_count-2)*minor_diameter_area)\n",
    "\n",
    "print(round(tau,3), 'psi')"
   ]
  },
  {
   "cell_type": "markdown",
   "metadata": {},
   "source": [
    "The main failure criteria here is stress, which when calculating factor of safety needs a corrective scaling factor of 0.577.\\\n",
    "18-8 Stainless Steel has a Yield Strength of 205 MPa, which is aproximatley 29,725 psi.\n",
    "#### Factor of Safety is Calculated Using $n_{d}$ = $\\frac{0.577*S_{y}}{\\tau}$ \n",
    "Where $\\tau$ is the shear stress,\\\n",
    "Where $0.577*S_{y}$ is the material Yield Strength,\\\n",
    "Where $n_{d}$ is the factor of safety.\n",
    "\n"
   ]
  },
  {
   "cell_type": "code",
   "execution_count": 4,
   "metadata": {},
   "outputs": [
    {
     "name": "stdout",
     "output_type": "stream",
     "text": [
      "Factor of Safety of:  3.24\n"
     ]
    }
   ],
   "source": [
    "Yield_Strength_mpa = 205 #MPa\n",
    "Yield_Strength_psi = Yield_Strength_mpa*145 #psi\n",
    "\n",
    "Factor_of_Safety = 0.577*Yield_Strength_psi/tau\n",
    "print('Factor of Safety of: ', round(Factor_of_Safety,2))"
   ]
  },
  {
   "cell_type": "code",
   "execution_count": null,
   "metadata": {},
   "outputs": [],
   "source": []
  }
 ],
 "metadata": {
  "kernelspec": {
   "display_name": "Python 3",
   "language": "python",
   "name": "python3"
  },
  "language_info": {
   "codemirror_mode": {
    "name": "ipython",
    "version": 3
   },
   "file_extension": ".py",
   "mimetype": "text/x-python",
   "name": "python",
   "nbconvert_exporter": "python",
   "pygments_lexer": "ipython3",
   "version": "3.8.5"
  }
 },
 "nbformat": 4,
 "nbformat_minor": 4
}
