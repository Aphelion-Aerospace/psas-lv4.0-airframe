{
 "cells": [
  {
   "cell_type": "markdown",
   "metadata": {},
   "source": [
    "# Isogrid Module Design for the LV4 Sub-Orbital Rocket\n",
    "## Motivation\n",
    "PSAS has used carbon fiber composites for generations of rockets. The introduction of isogrid aluminum pressure vessels has granted the impetus to examine isogrid's application as a general structural component. The goal is to have a design that is manufacturable by the amatuer group, but has a mass close to composite designs.\n",
    "\n",
    "## Design Choices\n",
    "### Material\n",
    "For simplicity, the tank is built from a tube or pipe, eliminating the need to weld the length of the tank. The downside is that this limits the material options to what can be obtained off the shelf. A quick survey of choices found the following options, all made from 6061-T6. Note, material prices as of 2020/10\n",
    "\n",
    "| ID (in) | Wall (in) | OD (in) | Type | Price/Ft | Source |\n",
    "|---------|-----------|---------|------|----------|--------|\n",
    "| 10.02 | 0.365 | 10.75 | Pipe | 270.01 | [Online Metals](https://www.onlinemetals.com/en/buy/aluminum/10-nom-schedule-40-aluminum-pipe-6061-t6-extruded/pid/10619)|\n",
    "| 10.02 | 0.365 | 10.75 | Pipe | 64.33 | [Midwest Steel & Al*](https://www.midweststeelsupply.com/store/6061aluminumpipe)|\n",
    "| 10.50 | 0.750 | 12.00 | Tube | 826.71 | [Online Metals](https://www.onlinemetals.com/en/buy/aluminum/12-od-x-0-75-wall-x-10-5-id-aluminum-round-tube-6061-t6-extruded-aluminum-association-in-/pid/21986)|\n",
    "| 11.00 | 0.500 | 12.00 | Tube | 678.12 | [Metals Depot](https://www.metalsdepot.com/search?q=T3R12500)\n",
    "| 11.50 | 0.250 | 12.00 | Tube | 181.63 | [Online Metals](https://www.onlinemetals.com/en/buy/aluminum/12-od-x-0-25-wall-x-11-5-id-aluminum-round-tube-6061-t6-extruded/pid/23929)|\n",
    "| 12.00 | 0.375 | 12.75 | Pipe | 85.10 | [Midwest Steel & Al*](https://www.midweststeelsupply.com/store/6061aluminumpipe)|\n",
    "\n",
    "*For Midwest Steel and Al, material is considered raw and can have light scratches\n",
    "\n",
    "Other sizes appear to be available from [Vita Needle](https://www.vitaneedle.com/aluminum-tube/) but quotes have to be requested.\n",
    "\n",
    "6061-T6 is a an acceptable choice as it has reasonable strength, weldability and LOX compatibility. The 11.5 in inner diameter (ID) pipe was selected as it's closest to the initial LV4 multi-disciplinary design targets and least expensive option.\n",
    "\n",
    "For initial estimates, a total tank length of 48\" is assumed. This fits with available manufacuring possibilities."
   ]
  },
  {
   "cell_type": "code",
   "execution_count": 1,
   "metadata": {},
   "outputs": [],
   "source": [
    "# Stock properties\n",
    "grid_id = 12     # in\n",
    "grid_wall_t = 0.25  # in\n",
    "grid_od = grid_id+2*grid_wall_t # in\n",
    "grid_r = grid_od/2   # in\n",
    "grid_length = 34  # in\n",
    "offset = 0.2\n",
    "\n",
    "# Material properties for Al 6061-T6\n",
    "E_Si = 69.0 # Young's Modules, GPa\n",
    "density = 0.0975 #lb/in^3\n",
    "E = 10.1e6 # psi\n",
    "S_y = 34e3 # Yield compressive Strength - psi\n",
    "S_u = 45e3 # Ultimate Tensile Strength - psi\n",
    "\n",
    "nu = 0.33 # Poisson's Ratio\n"
   ]
  },
  {
   "cell_type": "markdown",
   "metadata": {},
   "source": [
    "### Safety Factor\n",
    "Minimum safety factor for Base 11 is 1.5 (see requirement 3.2.4.15)"
   ]
  },
  {
   "cell_type": "code",
   "execution_count": 2,
   "metadata": {},
   "outputs": [],
   "source": [
    "safety_factor = 1.5"
   ]
  },
  {
   "cell_type": "markdown",
   "metadata": {},
   "source": [
    "\n",
    "### Pattern size\n",
    "For optimal strength and to maintain isotropic properties, the isogrid cells need to wrap around the tank diameter in integer increments. Twenty four cells was chosen as a starting point."
   ]
  },
  {
   "cell_type": "code",
   "execution_count": 3,
   "metadata": {},
   "outputs": [
    {
     "name": "stdout",
     "output_type": "stream",
     "text": [
      "Pattern Size: 3.27249\n",
      "Pattern Height: 2.83406\n"
     ]
    }
   ],
   "source": [
    "import math\n",
    "num_radial_divisions = 12\n",
    "pattern_size = grid_od*math.pi/num_radial_divisions\n",
    "pattern_height = pattern_size*(3**(1/2))/2\n",
    "print('Pattern Size: {:5.5f}'.format(pattern_size))\n",
    "print('Pattern Height: {:5.5f}'.format(pattern_height))\n"
   ]
  },
  {
   "cell_type": "markdown",
   "metadata": {},
   "source": [
    "### Design Properties\n",
    "\n",
    "from \"Isogrid Definitions\", page viii\n",
    "\n",
    "**Design choices:**<br>\n",
    "t: skin thickness; &emsp;&emsp; minimum 0.02\" per Peter<br> \n",
    "b: rib width; &emsp;&emsp;&emsp;&emsp;  min 0.03\" per Peter<br>\n",
    "d: rib depth; &emsp;&emsp;&emsp;&emsp; calculated from OD minus skin<br>\n",
    "c: flange depth<br>\n",
    "w: flange width<br>\n",
    "s: plate thickness of unflanged isogrid<br>\n",
    "h: triangle height<br>\n",
    "a: triangle leg length (center to center along pattern)<br><br>\n",
    "\n",
    "**Non-dimensional parameters:**<br>\n",
    "δ: rib width to skin thickness ratio <br>\n",
    "λ: flange depth to skin thickness ratio<br>\n",
    "α: rib cross section to skin cross section ratio<br>\n",
    "μ: flange cross section to skin cross section ratio<br>\n",
    "β^2 = bending stiffness parameter<br><br>\n",
    "\n",
    "**Equivalent material properties:**<br>\n",
    "t_eff = equivalent thickness for membrane stresses<br>\n",
    "t_bar = equivalent weight thickness <br>\n",
    "t_star = equivalent monocoque thickness<br>\n",
    "E_star = equivalent monocoque Young's modulus<br><br>\n",
    "\n",
    "**Stiffness coefficients:**<br>\n",
    "K: extensional stiffness<br>\n",
    "D: bending stiffness<br>\n",
    "I: moment of inertia\n"
   ]
  },
  {
   "cell_type": "code",
   "execution_count": 4,
   "metadata": {},
   "outputs": [],
   "source": [
    "#Design choices\n",
    "t = 0.025\n",
    "b = 0.025\n",
    "#d = grid_wall_t-t-offset\n",
    "d = 0.175\n",
    "c = 0.0\n",
    "w = 0.0\n",
    "s = t + d\n",
    "h = pattern_height\n",
    "a = pattern_size\n",
    "\n",
    "# non dimensional terms α λ μ δ β\n",
    "δ = d/t\n",
    "λ = c/t\n",
    "α = b*d/(t*h)\n",
    "μ = w*c/t/h\n",
    "β_squared = (1+α+μ)*(3*(1+δ)**2+3*μ*(1+λ)**2+1+α*δ**2+μ*λ**2) - 3*(1+δ-μ*(1+λ))**2\n",
    "β = β_squared**(1/2)\n",
    "\n",
    "#Equivalent properties\n",
    "t_eff = t*(1+α+μ)\n",
    "t_bar = t*(1+3*(α+μ))\n",
    "t_star = t*β/(1+α+μ)\n",
    "E_star = E*(1+α+μ)**2/β"
   ]
  },
  {
   "cell_type": "markdown",
   "metadata": {},
   "source": [
    "## Tank Properties\n",
    "The isogrid properties are calculated from NASA CR-124075"
   ]
  },
  {
   "cell_type": "code",
   "execution_count": 5,
   "metadata": {
    "scrolled": true
   },
   "outputs": [
    {
     "name": "stdout",
     "output_type": "stream",
     "text": [
      "Rib depth: 0.175\n",
      "Web non-dimensional ratio, Alpha: 0.062\n",
      "Rib depth to skin thickness, Delta: 7.000\n",
      "Bending stiffness parameter, Beta: 4.016\n",
      "Skin thickness, t: 0.025 in\n",
      "Effective thickness, t_eff: 0.027 in\n",
      "Equivalant monocoque thickness, t*: 0.095 in\n",
      "Equivalant weight thickness, t_bar: 0.030 in\n",
      "Equivalant monocoque Young's Modulus, E*: 2834960.978 psi\n"
     ]
    }
   ],
   "source": [
    "print('Rib depth: {:5.3f}'.format(d))\n",
    "print('Web non-dimensional ratio, Alpha: {:5.3f}'.format(α))\n",
    "print('Rib depth to skin thickness, Delta: {:5.3f}'.format(δ))\n",
    "print('Bending stiffness parameter, Beta: {:5.3f}'.format(β))\n",
    "print('Skin thickness, t: {:5.3f} in'.format(t))\n",
    "print('Effective thickness, t_eff: {:5.3f} in'.format(t_eff))\n",
    "print('Equivalant monocoque thickness, t*: {:5.3f} in'.format(t_star))\n",
    "print('Equivalant weight thickness, t_bar: {:5.3f} in'.format(t_bar))\n",
    "print('Equivalant monocoque Young\\'s Modulus, E*: {:5.3f} psi'.format(E_star))\n",
    "#print('Equivalant moment of Inertia, I: {:5.3f} in^4'.format(I))\n",
    "#print('Equivalant beta sq amoment of Inertia, I: {:5.10f} in^4'.format(I_beta))"
   ]
  },
  {
   "cell_type": "markdown",
   "metadata": {},
   "source": [
    "## Mass Model\n",
    "Equations for calculating the mass of the isotank based on diameter and length\n",
    "\n",
    "tbar: equiv wt thickness<br>"
   ]
  },
  {
   "cell_type": "code",
   "execution_count": 6,
   "metadata": {
    "scrolled": true
   },
   "outputs": [
    {
     "name": "stdout",
     "output_type": "stream",
     "text": [
      "grid_mass: 3.7122260212230436 lbm\n",
      "grid_mass_kg: 1.6838360254186027 kg\n"
     ]
    }
   ],
   "source": [
    "import math\n",
    "\n",
    "cross_section = math.pi*((grid_id/2+t_bar)**2-(grid_id/2)**2)\n",
    "volume = cross_section*grid_length\n",
    "grid_mass = volume*density\n",
    "lbm_to_kg = 0.453592 #unit conversion\n",
    "grid_mass_kg = grid_mass * lbm_to_kg\n",
    "\n",
    "print('grid_mass:',grid_mass, 'lbm')\n",
    "print('grid_mass_kg:',grid_mass_kg, 'kg')\n",
    "#print('tank_wall_mass:',tank_wall_mass, 'kg')"
   ]
  },
  {
   "cell_type": "markdown",
   "metadata": {},
   "source": [
    "## Load Calculations\n"
   ]
  },
  {
   "cell_type": "markdown",
   "metadata": {},
   "source": [
    "\n",
    "### Combined Compression and Bending\n",
    "For the fuel tank, the cylinder is under compression and bending. Section 4.2 on page 4.2.001 (#97) covers this scenario. The example covers:\n",
    "* General Instability (N_cr_1)\n",
    "* Skin Buckling (N_cr_2)\n",
    "* Rib Crippling (N_cr_3)"
   ]
  },
  {
   "cell_type": "code",
   "execution_count": 7,
   "metadata": {
    "scrolled": true
   },
   "outputs": [
    {
     "name": "stdout",
     "output_type": "stream",
     "text": [
      "Axial load per inch (Na): -254.6 lbf/in\n",
      "Max moment per inch (Nb):   0.0 lbf/in\n",
      "Ncr -  -254.64790894703253 lbf/in\n",
      "Ncr_Nb_check  -63.66197723675813 \n",
      "\n",
      "If Ncr_Nb_check > Nb: \n",
      " edit Euler modifier (0.50) using ref 2.1 (4.2.002) \n",
      " https://sci-hub.se/https://doi.org/10.1017/S0001924000014755\n",
      "Euler buckling lookup values:\n",
      " R/t*:  66.1 \n",
      " L/R:   5.4\n",
      "\n",
      "Buckling: \n",
      " classical (Nb > check value above): \n",
      "  2480.9 lbf/in || 97426.1 lbf\n",
      " conservative (Euler): \n",
      "  1240.5 lbf/in || 48713.0 lbf\n",
      " calculated (KDF = 0.75) \n",
      "  ref: https://www.hindawi.com/journals/ijae/2020/9851984/#B4\n",
      "  1858.2 lbf/in || 72970.8 lbf\n",
      "\n",
      "General Instability: \n",
      " 1859.4 lbf/in || 73017.1 lbf\n",
      "General Instability (conservative KDF = 0.20 from 4.2.005): \n",
      " 496.5 lbf/in || 19497.6 lbf\n",
      "Skin Buckling: \n",
      " 212.8 lbf/in || 8356.1 lbf\n",
      "K_c: \n",
      "  11.8 lbf\n",
      "Skin Buckling2: \n",
      " 9308.4 lbf\n",
      "Rib Crippling: \n",
      " 3370.3 lbf/in || 132351.1 lbf\n"
     ]
    }
   ],
   "source": [
    "import math\n",
    "\n",
    "# Inputs\n",
    "F = -10000 # 1573 lbf ~7000 N\n",
    "M = 0 # 265 lbf*in = 30 Nm\n",
    "\n",
    "# Instability\n",
    "Y = 1-0.407*(1-math.exp((-1/16)*(grid_r/t_eff)**(1/2))) #buckling knockdown factor: https://www.hindawi.com/journals/ijae/2020/9851984/#B4\n",
    "Y_con = 0.2\n",
    "c0 = 0.612*Y  #4.2.005\n",
    "c0_con = 0.612*Y_con #extremely conservative\n",
    "c1 = 10.2     # 4.2.006\n",
    "c2 = 0.616    # 4.2.008\n",
    "\n",
    "R_t_star = grid_r/t_star\n",
    "L_R = grid_length/grid_r\n",
    "\n",
    "# Classical Value\n",
    "N_cl = (1/(3*(1-nu**2))**0.5)*E_star*t_star**2/grid_r # k/in\n",
    "\n",
    "N_a = F/(2*math.pi*grid_r) # k/in\n",
    "N_b = M/(math.pi*grid_r**2) # k/in\n",
    "N_cr = N_a + N_b\n",
    "Ncr_Nb_check = N_cr/4\n",
    "N_cr2 = E_star*t_star**2*(3*(1-nu)**2)**(-1/2)/grid_r\n",
    "\n",
    "euler = 0.5 #(0.5 is a conservative estimate given it is unlikely our L/R ratios exceed 10. see 4.2.003)\n",
    "N_cr_timo = N_cl*euler\n",
    "N_cr_KDL = N_cl*Y\n",
    "\n",
    "N_cr_1 = c0*E*t**2*β/grid_r\n",
    "N_cr_1_con = c0_con*E*t**2*β/grid_r\n",
    "#N_cr_2 = c1*E_star*t_star*(1+α)*(t_star**2)/(h**2)\n",
    "k_c = 9 + 2/(h/a-0.2)**1.6 #shear buckling fixed edge: https://www.abbottaerospace.com/aa-sb-001/15-local-stability-isotropic-materials/15-2-general-buckling-expression/15-2-8-buckling-of-triangular-panels/\n",
    "K_c = k_c*(math.pi**2)/(12*(1-nu**2))\n",
    "N_cr_2b = K_c*E*(t/h)**2\n",
    "N_cr_2 = c1*E*t*(1+α)*(t/h)**2\n",
    "N_cr_3 = c2*E*t*(1+α)*(b/d)**2\n",
    "\n",
    "\n",
    "print('Axial load per inch (Na): {:5.1f} lbf/in'.format(N_a))\n",
    "print('Max moment per inch (Nb): {:5.1f} lbf/in'.format(N_b))\n",
    "print('Ncr - ',N_cr,'lbf/in')\n",
    "print('Ncr_Nb_check ',Ncr_Nb_check,'\\n')\n",
    "\n",
    "\n",
    "print('If Ncr_Nb_check > Nb: \\n edit Euler modifier ({:1.2f}) using ref 2.1 (4.2.002) \\n https://sci-hub.se/https://doi.org/10.1017/S0001924000014755'.format(euler))\n",
    "print('Euler buckling lookup values:\\n R/t*: {:5.1f} \\n L/R: {:5.1f}'.format(R_t_star,L_R))\n",
    "\n",
    "print('\\nBuckling: \\n classical (Nb > check value above): \\n  {:5.1f} lbf/in || {:5.1f} lbf'.format(N_cl,N_cl*2*math.pi*grid_r))\n",
    "print(' conservative (Euler): \\n  {:5.1f} lbf/in || {:5.1f} lbf'.format(N_cr_timo,N_cr_timo*2*math.pi*grid_r))\n",
    "print(' calculated (KDF = {:1.2f}) \\n  ref: https://www.hindawi.com/journals/ijae/2020/9851984/#B4\\n  {:5.1f} lbf/in || {:5.1f} lbf'.format(Y,N_cr_KDL,N_cr_KDL*2*math.pi*grid_r))\n",
    "print('\\nGeneral Instability: \\n {:5.1f} lbf/in || {:5.1f} lbf'.format(N_cr_1,N_cr_1*2*math.pi*grid_r))\n",
    "print('General Instability (conservative KDF = {:1.2f} from 4.2.005): \\n {:5.1f} lbf/in || {:5.1f} lbf'.format(Y_con,N_cr_1_con,N_cr_1_con*2*math.pi*grid_r))\n",
    "### I realized that General Instability and Buckling are the same thing; not sure which of these apply, probably best to look at the most conservative or analyze in FEA.\n",
    "\n",
    "print('Skin Buckling: \\n {:5.1f} lbf/in || {:5.1f} lbf'.format(N_cr_2,N_cr_2*2*math.pi*grid_r))\n",
    "print('K_c: \\n {:5.1f} lbf'.format(K_c))\n",
    "print('Skin Buckling2: \\n {:5.1f} lbf'.format(N_cr_2b))\n",
    "print('Rib Crippling: \\n {:5.1f} lbf/in || {:5.1f} lbf'.format(N_cr_3,N_cr_3*2*math.pi*grid_r))\n",
    "\n"
   ]
  },
  {
   "cell_type": "markdown",
   "metadata": {},
   "source": [
    "## Stress Calcs"
   ]
  },
  {
   "cell_type": "code",
   "execution_count": 8,
   "metadata": {},
   "outputs": [
    {
     "name": "stdout",
     "output_type": "stream",
     "text": [
      "Loads:\n",
      " axial:\n",
      "  -265.3 lbf/in || -10416.7 lbf\n",
      " bending:\n",
      "    0.0 lbf/in ||   0.0 lbf\n",
      " combined max:\n",
      "  -265.3 lbf/in || -10000.0 lbf\n",
      " combined min:\n",
      "  -265.3 lbf/in || -10000.0 lbf\n",
      "\n",
      "Membrane skin stress:\n",
      " σ max: -9993.3 psi\n",
      "\n",
      "Membrane rib stress:\n",
      " σ_1 rib: 3331.1 psi\n",
      " σ_2_3 rib: -6662.2 psi\n"
     ]
    }
   ],
   "source": [
    "Fx = F #axial\n",
    "Fy = 0 #circumferential\n",
    "Txy = 0.0\n",
    "\n",
    "Na = F/(math.pi*grid_id)\n",
    "Nb = M/(math.pi*(grid_id/2)**2)\n",
    "N_max = Na+N_b\n",
    "N_min = Na-Nb\n",
    "\n",
    "σ_skin_max  = N_max/t_eff #(2.0.021)\n",
    "\n",
    "σ_1_rib = (-1/(3*t_eff))*(Na+Nb)\n",
    "σ_2_3_rib = (2/(3*t_eff))*(Na+Nb)\n",
    "\n",
    "\n",
    "#add in membrane rib and skin stresses (2.0.021)\n",
    "\n",
    "print('Loads:\\n axial:\\n  {:5.1f} lbf/in || {:5.1f} lbf'.format(Na,Na*2*math.pi*grid_r))\n",
    "print(' bending:\\n  {:5.1f} lbf/in || {:5.1f} lbf'.format(Nb,Nb*2*math.pi*grid_r))\n",
    "print(' combined max:\\n  {:5.1f} lbf/in || {:5.1f} lbf'.format(N_max,N_max*math.pi*grid_id))\n",
    "print(' combined min:\\n  {:5.1f} lbf/in || {:5.1f} lbf'.format(N_min,N_min*math.pi*grid_id))\n",
    "print('\\nMembrane skin stress:')\n",
    "print(' σ max: {:5.1f} psi'.format(σ_skin_max))\n",
    "print('\\nMembrane rib stress:')\n",
    "print(' σ_1 rib: {:5.1f} psi'.format(σ_1_rib))\n",
    "print(' σ_2_3 rib: {:5.1f} psi'.format(σ_2_3_rib))"
   ]
  },
  {
   "cell_type": "code",
   "execution_count": null,
   "metadata": {},
   "outputs": [],
   "source": []
  }
 ],
 "metadata": {
  "kernelspec": {
   "display_name": "Python 3 (ipykernel)",
   "language": "python",
   "name": "python3"
  },
  "language_info": {
   "codemirror_mode": {
    "name": "ipython",
    "version": 3
   },
   "file_extension": ".py",
   "mimetype": "text/x-python",
   "name": "python",
   "nbconvert_exporter": "python",
   "pygments_lexer": "ipython3",
   "version": "3.8.8"
  }
 },
 "nbformat": 4,
 "nbformat_minor": 2
}
